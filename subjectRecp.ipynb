{
 "cells": [
  {
   "cell_type": "code",
   "execution_count": 6,
   "metadata": {},
   "outputs": [
    {
     "data": {
      "text/html": [
       "<div>\n",
       "<style scoped>\n",
       "    .dataframe tbody tr th:only-of-type {\n",
       "        vertical-align: middle;\n",
       "    }\n",
       "\n",
       "    .dataframe tbody tr th {\n",
       "        vertical-align: top;\n",
       "    }\n",
       "\n",
       "    .dataframe thead th {\n",
       "        text-align: right;\n",
       "    }\n",
       "</style>\n",
       "<table border=\"1\" class=\"dataframe\">\n",
       "  <thead>\n",
       "    <tr style=\"text-align: right;\">\n",
       "      <th></th>\n",
       "      <th>Biology 2</th>\n",
       "      <th>Pre Calculus</th>\n",
       "      <th>Physics 2</th>\n",
       "      <th>Basic Calculus</th>\n",
       "    </tr>\n",
       "  </thead>\n",
       "  <tbody>\n",
       "    <tr>\n",
       "      <th>0</th>\n",
       "      <td>Biology: A Global Approach: by Neil A. Campbel...</td>\n",
       "      <td>Precalculus Mathematics for Calculus: by James...</td>\n",
       "      <td>University Physics with Modern Physics by Hugh...</td>\n",
       "      <td>Calculus: Early Transcendentals by James Stewart</td>\n",
       "    </tr>\n",
       "    <tr>\n",
       "      <th>1</th>\n",
       "      <td>Molecular Biology of the Cell: by Bruce Albert...</td>\n",
       "      <td>Precalculus: by Michael Sullivan</td>\n",
       "      <td>Fundamentals of Physics by David Halliday, Rob...</td>\n",
       "      <td>Calculus by Michael Spivak</td>\n",
       "    </tr>\n",
       "    <tr>\n",
       "      <th>2</th>\n",
       "      <td>Biology: by Sylvia S. Mader and Michael Windel...</td>\n",
       "      <td>Precalculus with Limits: by Ron Larson and Pau...</td>\n",
       "      <td>Introduction to Electrodynamics by David J. Gr...</td>\n",
       "      <td>Calculus Made Easy by Silvanus P. Thompson</td>\n",
       "    </tr>\n",
       "  </tbody>\n",
       "</table>\n",
       "</div>"
      ],
      "text/plain": [
       "                                           Biology 2   \n",
       "0  Biology: A Global Approach: by Neil A. Campbel...  \\\n",
       "1  Molecular Biology of the Cell: by Bruce Albert...   \n",
       "2  Biology: by Sylvia S. Mader and Michael Windel...   \n",
       "\n",
       "                                        Pre Calculus   \n",
       "0  Precalculus Mathematics for Calculus: by James...  \\\n",
       "1                   Precalculus: by Michael Sullivan   \n",
       "2  Precalculus with Limits: by Ron Larson and Pau...   \n",
       "\n",
       "                                           Physics 2   \n",
       "0  University Physics with Modern Physics by Hugh...  \\\n",
       "1  Fundamentals of Physics by David Halliday, Rob...   \n",
       "2  Introduction to Electrodynamics by David J. Gr...   \n",
       "\n",
       "                                     Basic Calculus  \n",
       "0  Calculus: Early Transcendentals by James Stewart  \n",
       "1                        Calculus by Michael Spivak  \n",
       "2        Calculus Made Easy by Silvanus P. Thompson  "
      ]
     },
     "execution_count": 6,
     "metadata": {},
     "output_type": "execute_result"
    }
   ],
   "source": [
    "import numpy as np\n",
    "import pandas as pd \n",
    "\n",
    "subjectRecommendation = {\"Chemistry\":[\"Chemistry: The Central Science by Theodore L. Brown, H. Eugene LeMay, and Bruce E. Bursten\",\n",
    "    \"Organic Chemistry by Paula Yurkanis Bruice\",\n",
    "    \"Physical Chemistry: A Molecular Approach by Donald A. McQuarrie and John D. Simon\",],\"Biology 2\": [\"Biology: A Global Approach: by Neil A. Campbell and Lisa A. Urry\", \"Molecular Biology of the Cell: by Bruce Alberts et al\", \"Biology: by Sylvia S. Mader and Michael Windelspecht\"], \"Pre Calculus\": [\"Precalculus Mathematics for Calculus: by James Stewart, Lothar Redlin, and Saleem Watson\",\"Precalculus: by Michael Sullivan\", \"Precalculus with Limits: by Ron Larson and Paul Battaglia\"],\"Physics 2\": [\"University Physics with Modern Physics by Hugh D. Young and Roger A. Freedman\",\n",
    "    \"Fundamentals of Physics by David Halliday, Robert Resnick, and Jearl Walker\",\n",
    "    \"Introduction to Electrodynamics by David J. Griffiths\",], \"Basic Calculus\": [\"Calculus: Early Transcendentals by James Stewart\",\n",
    "     \"Calculus by Michael Spivak\",\n",
    "     \"Calculus Made Easy by Silvanus P. Thompson\",],\n",
    "}\n",
    "\n",
    "subjects = pd.DataFrame(subjectRecommendation)\n",
    "subjects.to_csv(\"subjectRecommendation.csv\")\n",
    "subjects"
   ]
  }
 ],
 "metadata": {
  "kernelspec": {
   "display_name": "KLDenv",
   "language": "python",
   "name": "python3"
  },
  "language_info": {
   "codemirror_mode": {
    "name": "ipython",
    "version": 3
   },
   "file_extension": ".py",
   "mimetype": "text/x-python",
   "name": "python",
   "nbconvert_exporter": "python",
   "pygments_lexer": "ipython3",
   "version": "3.11.3"
  },
  "orig_nbformat": 4
 },
 "nbformat": 4,
 "nbformat_minor": 2
}

{
 "cells": [
  {
   "cell_type": "code",
   "execution_count": 1,
   "metadata": {},
   "outputs": [
    {
     "ename": "NameError",
     "evalue": "name 'studentData' is not defined",
     "output_type": "error",
     "traceback": [
      "\u001b[1;31m---------------------------------------------------------------------------\u001b[0m",
      "\u001b[1;31mNameError\u001b[0m                                 Traceback (most recent call last)",
      "Cell \u001b[1;32mIn[1], line 6\u001b[0m\n\u001b[0;32m      3\u001b[0m \u001b[39mimport\u001b[39;00m \u001b[39mplotly\u001b[39;00m\u001b[39m.\u001b[39;00m\u001b[39mexpress\u001b[39;00m \u001b[39mas\u001b[39;00m \u001b[39mpx\u001b[39;00m\n\u001b[0;32m      4\u001b[0m \u001b[39mimport\u001b[39;00m \u001b[39mplotly\u001b[39;00m\u001b[39m.\u001b[39;00m\u001b[39mgraph_objects\u001b[39;00m \u001b[39mas\u001b[39;00m \u001b[39mgo\u001b[39;00m\n\u001b[1;32m----> 6\u001b[0m studentData \u001b[39m=\u001b[39m {\u001b[39m\"\u001b[39m\u001b[39mSubjects\u001b[39m\u001b[39m\"\u001b[39m:[\u001b[39m\"\u001b[39m\u001b[39mChemistry\u001b[39m\u001b[39m\"\u001b[39m, \u001b[39m\"\u001b[39m\u001b[39mPre-Calculus\u001b[39m\u001b[39m\"\u001b[39m, \u001b[39m\"\u001b[39m\u001b[39mPhysics 2\u001b[39m\u001b[39m\"\u001b[39m, \u001b[39m\"\u001b[39m\u001b[39mBasic Calculus\u001b[39m\u001b[39m\"\u001b[39m, \u001b[39m\"\u001b[39m\u001b[39mBiology 2\u001b[39m\u001b[39m\"\u001b[39m], \u001b[39m\"\u001b[39m\u001b[39mFinal Grade\u001b[39m\u001b[39m\"\u001b[39m: np\u001b[39m.\u001b[39mrandom\u001b[39m.\u001b[39mrandint(\u001b[39m0\u001b[39m,\u001b[39m100\u001b[39m, size\u001b[39m=\u001b[39m\u001b[39mlen\u001b[39m(studentData[\u001b[39m\"\u001b[39m\u001b[39mSubjects\u001b[39m\u001b[39m\"\u001b[39m]))}\n\u001b[0;32m      8\u001b[0m studentTable \u001b[39m=\u001b[39m pd\u001b[39m.\u001b[39mDataFrame(studentData)\n\u001b[0;32m      9\u001b[0m studentTable\n",
      "\u001b[1;31mNameError\u001b[0m: name 'studentData' is not defined"
     ]
    }
   ],
   "source": [
    "import numpy as np\n",
    "import pandas as pd \n",
    "import plotly.express as px\n",
    "import plotly.graph_objects as go\n",
    "\n",
    "studentData = {\"Subjects\":[\"Chemistry\", \"Pre-Calculus\", \"Physics 2\", \"Basic Calculus\", \"Biology 2\"], \"Final Grade\": np.random.randint(0,100, size=len(this[\"Subjects\"]))}\n",
    "\n",
    "studentTable = pd.DataFrame(studentData)\n",
    "studentTable"
   ]
  }
 ],
 "metadata": {
  "kernelspec": {
   "display_name": "KLDenv",
   "language": "python",
   "name": "python3"
  },
  "language_info": {
   "codemirror_mode": {
    "name": "ipython",
    "version": 3
   },
   "file_extension": ".py",
   "mimetype": "text/x-python",
   "name": "python",
   "nbconvert_exporter": "python",
   "pygments_lexer": "ipython3",
   "version": "3.11.3"
  },
  "orig_nbformat": 4
 },
 "nbformat": 4,
 "nbformat_minor": 2
}

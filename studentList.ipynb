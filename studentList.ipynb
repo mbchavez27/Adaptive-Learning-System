{
 "cells": [
  {
   "cell_type": "code",
   "execution_count": 17,
   "metadata": {},
   "outputs": [
    {
     "data": {
      "text/html": [
       "<div>\n",
       "<style scoped>\n",
       "    .dataframe tbody tr th:only-of-type {\n",
       "        vertical-align: middle;\n",
       "    }\n",
       "\n",
       "    .dataframe tbody tr th {\n",
       "        vertical-align: top;\n",
       "    }\n",
       "\n",
       "    .dataframe thead th {\n",
       "        text-align: right;\n",
       "    }\n",
       "</style>\n",
       "<table border=\"1\" class=\"dataframe\">\n",
       "  <thead>\n",
       "    <tr style=\"text-align: right;\">\n",
       "      <th></th>\n",
       "      <th>Student_Email</th>\n",
       "      <th>Student_Password</th>\n",
       "      <th>Student_Names</th>\n",
       "      <th>Strand</th>\n",
       "      <th>Section</th>\n",
       "    </tr>\n",
       "  </thead>\n",
       "  <tbody>\n",
       "    <tr>\n",
       "      <th>0</th>\n",
       "      <td>jbvaldez3@student.apc.edu.ph</td>\n",
       "      <td>jasper</td>\n",
       "      <td>Jasper Valdez</td>\n",
       "      <td>STEM</td>\n",
       "      <td>STEM213</td>\n",
       "    </tr>\n",
       "    <tr>\n",
       "      <th>1</th>\n",
       "      <td>sacamama@student.apc.edu.ph</td>\n",
       "      <td>shan</td>\n",
       "      <td>Shanteiy Camaama</td>\n",
       "      <td>STEM</td>\n",
       "      <td>STEM212</td>\n",
       "    </tr>\n",
       "    <tr>\n",
       "      <th>2</th>\n",
       "      <td>mbchavez2@student.apc.edu.ph</td>\n",
       "      <td>max</td>\n",
       "      <td>Max Benedict Chavez</td>\n",
       "      <td>STEM</td>\n",
       "      <td>STEM211</td>\n",
       "    </tr>\n",
       "  </tbody>\n",
       "</table>\n",
       "</div>"
      ],
      "text/plain": [
       "                  Student_Email Student_Password        Student_Names Strand   \n",
       "0  jbvaldez3@student.apc.edu.ph           jasper        Jasper Valdez   STEM  \\\n",
       "1   sacamama@student.apc.edu.ph             shan     Shanteiy Camaama   STEM   \n",
       "2  mbchavez2@student.apc.edu.ph              max  Max Benedict Chavez   STEM   \n",
       "\n",
       "   Section  \n",
       "0  STEM213  \n",
       "1  STEM212  \n",
       "2  STEM211  "
      ]
     },
     "execution_count": 17,
     "metadata": {},
     "output_type": "execute_result"
    }
   ],
   "source": [
    "# Create a Data List of Students\n",
    "import numpy as np\n",
    "import pandas as pd \n",
    "\n",
    "studentTable = {\"Student_Email\": [\"jbvaldez3@student.apc.edu.ph\", \"sacamama@student.apc.edu.ph\", \"mbchavez2@student.apc.edu.ph\"], \"Student_Password\": [\"jasper\", \"shan\", \"max\"], \"Student_Names\": [\"Jasper Valdez\", \"Shanteiy Camaama\", \"Max Benedict Chavez\"], \"Strand\": [\"STEM\", \"STEM\", \"STEM\"], \"Section\": [\"STEM213\", \"STEM212\", \"STEM211\"], \"Student_Data\": [\"studentData_jasper.csv\",\"studentData_shan.csv\", \"studentData_max.csv\"] }\n",
    "\n",
    "studentList = pd.DataFrame(studentTable)\n",
    "studentList.to_csv(\"studentList.csv\")\n",
    "studentList"
   ]
  },
  {
   "cell_type": "code",
   "execution_count": 11,
   "metadata": {},
   "outputs": [],
   "source": []
  }
 ],
 "metadata": {
  "kernelspec": {
   "display_name": "KLDenv",
   "language": "python",
   "name": "python3"
  },
  "language_info": {
   "codemirror_mode": {
    "name": "ipython",
    "version": 3
   },
   "file_extension": ".py",
   "mimetype": "text/x-python",
   "name": "python",
   "nbconvert_exporter": "python",
   "pygments_lexer": "ipython3",
   "version": "3.11.3"
  },
  "orig_nbformat": 4
 },
 "nbformat": 4,
 "nbformat_minor": 2
}
